{
 "cells": [
  {
   "cell_type": "markdown",
   "metadata": {},
   "source": [
    "#Excersise 2\n"
   ]
  },
  {
   "cell_type": "code",
   "execution_count": 2,
   "metadata": {},
   "outputs": [
    {
     "name": "stdout",
     "output_type": "stream",
     "text": [
      "The maximum value in the list is:  23\n"
     ]
    }
   ],
   "source": [
    "# Define the list\n",
    "Numbers = [2,4,7,4,23,5,1,4,8,9]\n",
    "\n",
    "# Find the maximum value\n",
    "max_value = max(Numbers)\n",
    "\n",
    "#Print the result\n",
    "print(\"The maximum value in the list is: \", max_value)\n"
   ]
  },
  {
   "cell_type": "code",
   "execution_count": 5,
   "metadata": {},
   "outputs": [
    {
     "name": "stdout",
     "output_type": "stream",
     "text": [
      "The average value of the list is: 24.6\n"
     ]
    }
   ],
   "source": [
    "numbers = [4,7,1,5,11,53,12,46,84,23]\n",
    "\n",
    "#Find the average number\n",
    "average= sum(numbers )/ len(numbers) \n",
    "print(\"The average value of the list is:\", average)"
   ]
  },
  {
   "cell_type": "code",
   "execution_count": 6,
   "metadata": {},
   "outputs": [
    {
     "name": "stdout",
     "output_type": "stream",
     "text": [
      "Original List: [2, 6, 7, 45, 23, 53, 14, 45, 89, 5]\n",
      "List in Reverse Order: [5, 89, 45, 14, 53, 23, 45, 7, 6, 2]\n"
     ]
    }
   ],
   "source": [
    "# Define the list\n",
    "numbers = [2, 6, 7, 45, 23, 53, 14, 45, 89, 5]\n",
    "\n",
    "# Print the list in reverse order\n",
    "reverse_order = list(reversed(numbers))\n",
    "\n",
    "# Print the result\n",
    "print(\"Original List:\", numbers)\n",
    "print(\"List in Reverse Order:\", reverse_order)\n"
   ]
  },
  {
   "cell_type": "code",
   "execution_count": 8,
   "metadata": {},
   "outputs": [
    {
     "name": "stdout",
     "output_type": "stream",
     "text": [
      "True\n"
     ]
    }
   ],
   "source": [
    "def compare_lists(list1, list2):\n",
    "    # Check if the lists are of the same length\n",
    "    if len(list1) != len(list2):\n",
    "        return False\n",
    "    \n",
    "    # Check if each element in the first list is less than the corresponding element in the second list\n",
    "    for i in range(len(list1)):\n",
    "        if list1[i] >= list2[i]:\n",
    "            return False\n",
    "    \n",
    "    # If all elements pass the condition, return True\n",
    "    return True\n",
    "\n",
    "# Example usage:\n",
    "list1 = [2, 6, 7, 4, 8]\n",
    "list2 = [5, 9, 10, 6, 12]\n",
    "\n",
    "result = compare_lists(list1, list2)\n",
    "\n",
    "# Print the result\n",
    "print(result)\n"
   ]
  },
  {
   "cell_type": "code",
   "execution_count": 9,
   "metadata": {},
   "outputs": [
    {
     "name": "stdout",
     "output_type": "stream",
     "text": [
      "Elements at indexes 1 and 3 swapped: True\n",
      "Updated list: [1, 4, 3, 2, 5]\n"
     ]
    }
   ],
   "source": [
    "def swap_elements(lst, index1, index2):\n",
    "    # Check if the indexes are valid\n",
    "    if 0 <= index1 < len(lst) and 0 <= index2 < len(lst):\n",
    "        # Swap elements at the specified indexes\n",
    "        lst[index1], lst[index2] = lst[index2], lst[index1]\n",
    "        return True\n",
    "    else:\n",
    "        # Invalid indexes\n",
    "        return False\n",
    "\n",
    "# Example usage:\n",
    "my_list = [1, 2, 3, 4, 5]\n",
    "\n",
    "# Swap elements at indexes 1 and 3\n",
    "indexes_to_swap = (1, 3)\n",
    "result = swap_elements(my_list, *indexes_to_swap)\n",
    "\n",
    "# Print the result and the updated list\n",
    "print(\"Elements at indexes {} and {} swapped:\".format(*indexes_to_swap), result)\n",
    "print(\"Updated list:\", my_list)\n",
    "\n"
   ]
  },
  {
   "cell_type": "code",
   "execution_count": 10,
   "metadata": {},
   "outputs": [
    {
     "name": "stdout",
     "output_type": "stream",
     "text": [
      "Concatenated List: [1, 2, 3, 4, 5, 6]\n"
     ]
    }
   ],
   "source": [
    "def concatenate_lists(list1, list2):\n",
    "    concatenated_list = list1 + list2\n",
    "    return concatenated_list\n",
    "\n",
    "# Example usage:\n",
    "list1 = [1, 2, 3]\n",
    "list2 = [4, 5, 6]\n",
    "\n",
    "result = concatenate_lists(list1, list2)\n",
    "\n",
    "# Print the result\n",
    "print(\"Concatenated List:\", result)\n"
   ]
  },
  {
   "cell_type": "code",
   "execution_count": 11,
   "metadata": {},
   "outputs": [
    {
     "name": "stdout",
     "output_type": "stream",
     "text": [
      "Last index of 85: 5\n"
     ]
    }
   ],
   "source": [
    "def last_index_of_value(lst, value):\n",
    "    try:\n",
    "        last_index = len(lst) - 1 - lst[::-1].index(value)\n",
    "        return last_index\n",
    "    except ValueError:\n",
    "        return -1\n",
    "\n",
    "# Example usage:\n",
    "my_list = [74, 85, 102, 99, 101, 85, 56]\n",
    "search_value = 85\n",
    "\n",
    "result = last_index_of_value(my_list, search_value)\n",
    "\n",
    "# Print the result\n",
    "print(\"Last index of {}: {}\".format(search_value, result))\n"
   ]
  },
  {
   "cell_type": "code",
   "execution_count": 12,
   "metadata": {},
   "outputs": [
    {
     "name": "stdout",
     "output_type": "stream",
     "text": [
      "Range of values: 35\n"
     ]
    }
   ],
   "source": [
    "def range_of_values(lst):\n",
    "    return max(lst) - min(lst) + 1\n",
    "\n",
    "# Example usage:\n",
    "my_list = [36, 12, 25, 19, 46, 31, 22]\n",
    "\n",
    "result = range_of_values(my_list)\n",
    "\n",
    "# Print the result\n",
    "print(\"Range of values:\", result)\n"
   ]
  },
  {
   "cell_type": "code",
   "execution_count": 13,
   "metadata": {},
   "outputs": [
    {
     "name": "stdout",
     "output_type": "stream",
     "text": [
      "Count of elements between 4 and 17: 4\n"
     ]
    }
   ],
   "source": [
    "def count_elements_between(lst, min_value, max_value):\n",
    "    count = sum(min_value <= x <= max_value for x in lst)\n",
    "    return count\n",
    "\n",
    "# Example usage:\n",
    "my_list = [14, 1, 22, 17, 36, 7, -43, 5]\n",
    "min_value = 4\n",
    "max_value = 17\n",
    "\n",
    "result = count_elements_between(my_list, min_value, max_value)\n",
    "\n",
    "# Print the result\n",
    "print(\"Count of elements between {} and {}: {}\".format(min_value, max_value, result))\n"
   ]
  },
  {
   "cell_type": "code",
   "execution_count": 14,
   "metadata": {},
   "outputs": [
    {
     "name": "stdout",
     "output_type": "stream",
     "text": [
      "Is list1 sorted? False\n",
      "Is list2 sorted? True\n"
     ]
    }
   ],
   "source": [
    "def is_sorted(lst):\n",
    "    return all(lst[i] <= lst[i + 1] for i in range(len(lst) - 1))\n",
    "\n",
    "# Example usage:\n",
    "list1 = [16.1, 12.3, 22.2, 14.4]\n",
    "list2 = [1.5, 4.3, 7.0, 19.5, 25.1, 46.2]\n",
    "\n",
    "result1 = is_sorted(list1)\n",
    "result2 = is_sorted(list2)\n",
    "\n",
    "# Print the results\n",
    "print(\"Is list1 sorted?\", result1)\n",
    "print(\"Is list2 sorted?\", result2)\n"
   ]
  }
 ],
 "metadata": {
  "kernelspec": {
   "display_name": "Python 3 (ipykernel)",
   "language": "python",
   "name": "python3"
  },
  "language_info": {
   "codemirror_mode": {
    "name": "ipython",
    "version": 3
   },
   "file_extension": ".py",
   "mimetype": "text/x-python",
   "name": "python",
   "nbconvert_exporter": "python",
   "pygments_lexer": "ipython3",
   "version": "3.11.5"
  }
 },
 "nbformat": 4,
 "nbformat_minor": 2
}
